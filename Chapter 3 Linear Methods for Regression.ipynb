{
 "cells": [
  {
   "cell_type": "markdown",
   "metadata": {
    "collapsed": true,
    "pycharm": {
     "name": "#%% md\n"
    }
   },
   "source": [
    "This article discussed a couple of subsetting and shrinkage methods:\n",
    "* Best Subset Regression iterates over all possible feature combination to select the best one;\n",
    "* Ridge Regression penalizes the squared coefficient values (L2 penalty) enforcing them to be small;\n",
    "* LASSO penalizes the absolute values of the coefficients (L1 penalty) which can force some of them to be exactly zero;\n",
    "* Elastic Net combines the L1 and L2 penalties, enjoying the best of Ridge and Lasso;\n",
    "* Least Angle Regression fits in between subsetting and shrinkage: it works iteratively, adding “some part” of one of the features at each step;\n",
    "* Principal Components Regression performs PCA to squeeze the original features into a small subset of new features and then uses those as predictors;\n",
    "* Partial Least Squares also summarizes original features into a smaller subset of new ones, but unlike PCR, it also makes use of the targets to construct them."
   ]
  },
  {
   "cell_type": "code",
   "execution_count": 4,
   "outputs": [
    {
     "name": "stdout",
     "output_type": "stream",
     "text": [
      "   Unnamed: 0    lcavol   lweight  age      lbph  svi       lcp  gleason  \\\n",
      "0           1 -0.579818  2.769459   50 -1.386294    0 -1.386294        6   \n",
      "1           2 -0.994252  3.319626   58 -1.386294    0 -1.386294        6   \n",
      "2           3 -0.510826  2.691243   74 -1.386294    0 -1.386294        7   \n",
      "3           4 -1.203973  3.282789   58 -1.386294    0 -1.386294        6   \n",
      "4           5  0.751416  3.432373   62 -1.386294    0 -1.386294        6   \n",
      "\n",
      "   pgg45      lpsa train  \n",
      "0      0 -0.430783     T  \n",
      "1      0 -0.162519     T  \n",
      "2     20 -0.162519     T  \n",
      "3      0 -0.162519     T  \n",
      "4      0  0.371564     T  \n"
     ]
    }
   ],
   "source": [
    "# Import necessary modules and set options\n",
    "import pandas as pd\n",
    "import numpy as np\n",
    "import itertools\n",
    "\n",
    "from sklearn.linear_model import LinearRegression, RidgeCV, LassoCV, ElasticNetCV, LarsCV\n",
    "from sklearn.cross_decomposition import PLSRegression\n",
    "from sklearn.decomposition import PCA\n",
    "from sklearn.pipeline import Pipeline\n",
    "from sklearn.model_selection import GridSearchCV\n",
    "\n",
    "import warnings\n",
    "warnings.filterwarnings(\"ignore\")\n",
    "\n",
    "# Load data\n",
    "data = pd.read_csv(\"prostate.data.csv\", sep = \"\\t\")\n",
    "print(data.head())\n",
    "\n",
    "# Train-test split\n",
    "y_train = np.array(data[data.train == \"T\"]['lpsa'])\n",
    "y_test = np.array(data[data.train == \"F\"]['lpsa'])\n",
    "X_train = np.array(data[data.train == \"T\"].drop(['lpsa', 'train'], axis=1))\n",
    "X_test = np.array(data[data.train == \"F\"].drop(['lpsa', 'train'], axis=1))"
   ],
   "metadata": {
    "collapsed": false,
    "pycharm": {
     "name": "#%%\n"
    }
   }
  },
  {
   "cell_type": "code",
   "execution_count": 5,
   "outputs": [
    {
     "name": "stdout",
     "output_type": "stream",
     "text": [
      "Linear Regression MAE: 0.24\n",
      "Linear Regression coefficients:\n"
     ]
    },
    {
     "data": {
      "text/plain": "{'Intercept': 1.014,\n 'Unnamed: 0': 0.034,\n 'lcavol': 0.145,\n 'lweight': 0.056,\n 'age': -0.007,\n 'lbph': 0.046,\n 'svi': 0.066,\n 'lcp': -0.052,\n 'gleason': -0.042,\n 'pgg45': 0.003}"
     },
     "execution_count": 5,
     "metadata": {},
     "output_type": "execute_result"
    }
   ],
   "source": [
    "\n",
    "linreg_model = LinearRegression(normalize=True).fit(X_train, y_train)\n",
    "linreg_prediction = linreg_model.predict(X_test)\n",
    "linreg_mae = np.mean(np.abs(y_test - linreg_prediction))\n",
    "linreg_coefs = dict(\n",
    "    zip(['Intercept'] + data.columns.tolist()[:-1],\n",
    "        np.round(np.concatenate((linreg_model.intercept_, linreg_model.coef_),\n",
    "        axis=None), 3))\n",
    ")\n",
    "\n",
    "print('Linear Regression MAE: {}'.format(np.round(linreg_mae, 3)))\n",
    "print('Linear Regression coefficients:')\n",
    "linreg_coefs"
   ],
   "metadata": {
    "collapsed": false,
    "pycharm": {
     "name": "#%%\n"
    }
   }
  },
  {
   "cell_type": "code",
   "execution_count": 6,
   "outputs": [
    {
     "name": "stdout",
     "output_type": "stream",
     "text": [
      "   index num_features            features       MAE\n",
      "0      0            4        [0, 2, 3, 4]  0.221212\n",
      "1      0            3           [0, 3, 4]  0.222467\n",
      "2      0            3           [0, 2, 3]  0.222898\n",
      "3      0            6  [0, 1, 2, 3, 4, 6]  0.224248\n",
      "4      0            5     [0, 1, 3, 4, 6]  0.224347\n",
      "Best Subset Regression MAE: 0.221\n",
      "Best Subset Regression coefficients:\n"
     ]
    },
    {
     "data": {
      "text/plain": "{'Intercept': 0.607,\n 'Unnamed: 0': 0.039,\n 'lcavol': 0.025,\n 'lweight': -0.002,\n 'age': 0.027}"
     },
     "execution_count": 6,
     "metadata": {},
     "output_type": "execute_result"
    }
   ],
   "source": [
    "\n",
    "results = pd.DataFrame(columns=['num_features', 'features', 'MAE'])\n",
    "\n",
    "# Loop over all possible numbers of features to be included\n",
    "for k in range(1, X_train.shape[1] + 1):\n",
    "    # Loop over all possible subsets of size k\n",
    "    for subset in itertools.combinations(range(X_train.shape[1]), k):\n",
    "        subset = list(subset)\n",
    "        linreg_model = LinearRegression(normalize=True).fit(X_train[:, subset], y_train)\n",
    "        linreg_prediction = linreg_model.predict(X_test[:, subset])\n",
    "        linreg_mae = np.mean(np.abs(y_test - linreg_prediction))\n",
    "        results = results.append(pd.DataFrame([{'num_features': k,\n",
    "                                                'features': subset,\n",
    "                                                'MAE': linreg_mae}]))\n",
    "\n",
    "# Inspect best combinations\n",
    "results = results.sort_values('MAE').reset_index()\n",
    "print(results.head())\n",
    "\n",
    "# Fit best model\n",
    "best_subset_model = LinearRegression(normalize=True).fit(X_train[:, results['features'][0]], y_train)\n",
    "best_subset_coefs = dict(\n",
    "    zip(['Intercept'] + data.columns.tolist()[:-1],\n",
    "        np.round(np.concatenate((best_subset_model.intercept_, best_subset_model.coef_), axis=None), 3))\n",
    ")\n",
    "\n",
    "print('Best Subset Regression MAE: {}'.format(np.round(results['MAE'][0], 3)))\n",
    "print('Best Subset Regression coefficients:')\n",
    "best_subset_coefs"
   ],
   "metadata": {
    "collapsed": false,
    "pycharm": {
     "name": "#%%\n"
    }
   }
  },
  {
   "cell_type": "code",
   "execution_count": 7,
   "outputs": [
    {
     "name": "stdout",
     "output_type": "stream",
     "text": [
      "Ridge Regression MAE: 0.239\n",
      "Ridge Regression coefficients:\n"
     ]
    },
    {
     "data": {
      "text/plain": "{'Intercept': 0.948,\n 'Unnamed: 0': 0.033,\n 'lcavol': 0.154,\n 'lweight': 0.076,\n 'age': -0.007,\n 'lbph': 0.049,\n 'svi': 0.088,\n 'lcp': -0.051,\n 'gleason': -0.035,\n 'pgg45': 0.003}"
     },
     "execution_count": 7,
     "metadata": {},
     "output_type": "execute_result"
    }
   ],
   "source": [
    "ridge_cv = RidgeCV(normalize=True, alphas=np.logspace(-10, 1, 400))\n",
    "ridge_model = ridge_cv.fit(X_train, y_train)\n",
    "ridge_prediction = ridge_model.predict(X_test)\n",
    "ridge_mae = np.mean(np.abs(y_test - ridge_prediction))\n",
    "ridge_coefs = dict(\n",
    "    zip(['Intercept'] + data.columns.tolist()[:-1],\n",
    "        np.round(np.concatenate((ridge_model.intercept_, ridge_model.coef_),\n",
    "                                axis=None), 3))\n",
    ")\n",
    "\n",
    "print('Ridge Regression MAE: {}'.format(np.round(ridge_mae, 3)))\n",
    "print('Ridge Regression coefficients:')\n",
    "ridge_coefs"
   ],
   "metadata": {
    "collapsed": false,
    "pycharm": {
     "name": "#%%\n"
    }
   }
  },
  {
   "cell_type": "code",
   "execution_count": 7,
   "outputs": [],
   "source": [],
   "metadata": {
    "collapsed": false,
    "pycharm": {
     "name": "#%%\n"
    }
   }
  },
  {
   "cell_type": "code",
   "execution_count": null,
   "outputs": [],
   "source": [],
   "metadata": {
    "collapsed": false,
    "pycharm": {
     "name": "#%%\n"
    }
   }
  }
 ],
 "metadata": {
  "kernelspec": {
   "name": "pycharm-576ee31a",
   "language": "python",
   "display_name": "PyCharm (pythonProject5)"
  },
  "language_info": {
   "codemirror_mode": {
    "name": "ipython",
    "version": 2
   },
   "file_extension": ".py",
   "mimetype": "text/x-python",
   "name": "python",
   "nbconvert_exporter": "python",
   "pygments_lexer": "ipython2",
   "version": "2.7.6"
  }
 },
 "nbformat": 4,
 "nbformat_minor": 0
}